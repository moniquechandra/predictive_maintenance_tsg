{
 "cells": [
  {
   "cell_type": "markdown",
   "id": "c60b6c44",
   "metadata": {},
   "source": [
    "NOTES:\n",
    "\n",
    "I had to alter the csv files, because they used semicolons to separate columns instead of comma separation.\n"
   ]
  },
  {
   "cell_type": "markdown",
   "id": "91a4ec08",
   "metadata": {},
   "source": [
    "Importing Libraries"
   ]
  },
  {
   "cell_type": "code",
   "execution_count": 35,
   "id": "96d6579a",
   "metadata": {},
   "outputs": [],
   "source": [
    "import pandas as pd\n",
    "import numpy as np\n",
    "import matplotlib.pyplot as plt"
   ]
  },
  {
   "cell_type": "markdown",
   "id": "1930ad47",
   "metadata": {},
   "source": [
    "Handling Exceptions"
   ]
  },
  {
   "cell_type": "code",
   "execution_count": 36,
   "id": "46e5126f",
   "metadata": {},
   "outputs": [],
   "source": [
    "temps_sheets_exceptions = ['Blad2', 'Blad3']"
   ]
  },
  {
   "cell_type": "markdown",
   "id": "b2f0f65f",
   "metadata": {},
   "source": [
    "Reading Datasets"
   ]
  },
  {
   "cell_type": "code",
   "execution_count": 37,
   "id": "33067cff",
   "metadata": {},
   "outputs": [
    {
     "name": "stderr",
     "output_type": "stream",
     "text": [
      "C:\\Users\\danin\\AppData\\Local\\Temp\\ipykernel_21292\\1542961609.py:3: DtypeWarning: Columns (0,1,2,3,4,5,6,7,8,9,10,11,12,13,14,15,16,17,18,19,20,21,22,23,24,25,26,27,28,29,30,31,32,33,34,35,36,37,38,39,40,41,42,43,44,45,46,47,48,49,50,51,52,53,54,55,56,57,58,59,60,61,62,63,64,65,66,67,68,69,70,71,72,73,74,75,76,77,78,79,80,81,82) have mixed types. Specify dtype option on import or set low_memory=False.\n",
      "  SVRM2_drive_df = pd.read_csv('REXCURVE 2025-09-05 084850 017.CSV')\n",
      "C:\\Users\\danin\\AppData\\Local\\Temp\\ipykernel_21292\\1542961609.py:4: DtypeWarning: Columns (0,1,2,3,4,5,6,7,8,9,10,11,12,13,14,15,16,17,18,19,20,21,22,23,24,25,26,27,28,29,30,31,32,33,34,35,36,37,38,39,40,41,42,43,44,45,46,47,48,49,50,51,52,53,54,55,56,57,58,59,60,61,62,63,64,65,66,67) have mixed types. Specify dtype option on import or set low_memory=False.\n",
      "  SVRM3_drive_df = pd.read_csv('REXCURVE 2025-09-11 133619 993.CSV')\n"
     ]
    }
   ],
   "source": [
    "SVRM3_Ewon_df = pd.read_csv('20250905 SVRM3 HisLog.csv')\n",
    "temps_xl = pd.ExcelFile('verzamelblad.xlsx')\n",
    "SVRM2_drive_df = pd.read_csv('REXCURVE 2025-09-05 084850 017.CSV')\n",
    "SVRM3_drive_df = pd.read_csv('REXCURVE 2025-09-11 133619 993.CSV')"
   ]
  },
  {
   "cell_type": "code",
   "execution_count": 38,
   "id": "6ff44969",
   "metadata": {},
   "outputs": [],
   "source": [
    "temps_sheets = temps_xl.sheet_names[1:]\n",
    "for sheet in temps_sheets:\n",
    "    if sheet in temps_sheets_exceptions:\n",
    "        small_df = pd.read_excel('verzamelblad.xlsx', sheet)\n",
    "    else:\n",
    "        small_df = pd.read_excel('verzamelblad.xlsx', sheet, skiprows=[0,1,2])\n",
    "    if sheet == temps_sheets_exceptions[0]:\n",
    "        temps_df = small_df\n",
    "    else:\n",
    "        temps_df = pd.concat((temps_df, small_df))"
   ]
  }
 ],
 "metadata": {
  "kernelspec": {
   "display_name": "Python 3",
   "language": "python",
   "name": "python3"
  },
  "language_info": {
   "codemirror_mode": {
    "name": "ipython",
    "version": 3
   },
   "file_extension": ".py",
   "mimetype": "text/x-python",
   "name": "python",
   "nbconvert_exporter": "python",
   "pygments_lexer": "ipython3",
   "version": "3.13.3"
  }
 },
 "nbformat": 4,
 "nbformat_minor": 5
}
