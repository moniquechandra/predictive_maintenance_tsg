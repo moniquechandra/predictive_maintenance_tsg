{
 "cells": [
  {
   "cell_type": "markdown",
   "id": "66402313",
   "metadata": {},
   "source": [
    "Importing Libraries"
   ]
  },
  {
   "cell_type": "code",
   "execution_count": 1,
   "id": "3912c311",
   "metadata": {},
   "outputs": [],
   "source": [
    "import matplotlib.pyplot as plt\n",
    "import pandas as pd\n",
    "import numpy as np\n",
    "import glob\n",
    "import os"
   ]
  },
  {
   "cell_type": "markdown",
   "id": "a49b3de0",
   "metadata": {},
   "source": [
    "Loading Data"
   ]
  },
  {
   "cell_type": "code",
   "execution_count": null,
   "id": "75f02038",
   "metadata": {},
   "outputs": [
    {
     "ename": "ArrowInvalid",
     "evalue": "File is too small to be a well-formed file",
     "output_type": "error",
     "traceback": [
      "\u001b[31m---------------------------------------------------------------------------\u001b[39m",
      "\u001b[31mArrowInvalid\u001b[39m                              Traceback (most recent call last)",
      "\u001b[36mCell\u001b[39m\u001b[36m \u001b[39m\u001b[32mIn[3]\u001b[39m\u001b[32m, line 3\u001b[39m\n\u001b[32m      1\u001b[39m \u001b[38;5;66;03m#temps_df = pd.read_pickle('Temps_complete.pkl')\u001b[39;00m\n\u001b[32m      2\u001b[39m SVRM2_drive_df = pd.read_feather(\u001b[33m'\u001b[39m\u001b[33mSVRM2_drive_complete.feather\u001b[39m\u001b[33m'\u001b[39m)\n\u001b[32m----> \u001b[39m\u001b[32m3\u001b[39m SVRM3_drive_df = \u001b[43mpd\u001b[49m\u001b[43m.\u001b[49m\u001b[43mread_feather\u001b[49m\u001b[43m(\u001b[49m\u001b[33;43m'\u001b[39;49m\u001b[33;43mSVRM3_drive_complete.feather\u001b[39;49m\u001b[33;43m'\u001b[39;49m\u001b[43m)\u001b[49m\n\u001b[32m      4\u001b[39m \u001b[38;5;66;03m#SVRM3_ewon_df = pd.read_pickle('SVRM3_ewon_complete.pkl')\u001b[39;00m\n\u001b[32m      5\u001b[39m \u001b[38;5;66;03m#SVRM4_ewon_df = pd.read_pickle('SVRM4_ewon_complete.pkl')\u001b[39;00m\n",
      "\u001b[36mFile \u001b[39m\u001b[32mc:\\Users\\danin\\AppData\\Local\\Programs\\Python\\Python313\\Lib\\site-packages\\pandas\\io\\feather_format.py:124\u001b[39m, in \u001b[36mread_feather\u001b[39m\u001b[34m(path, columns, use_threads, storage_options, dtype_backend)\u001b[39m\n\u001b[32m    120\u001b[39m \u001b[38;5;28;01mwith\u001b[39;00m get_handle(\n\u001b[32m    121\u001b[39m     path, \u001b[33m\"\u001b[39m\u001b[33mrb\u001b[39m\u001b[33m\"\u001b[39m, storage_options=storage_options, is_text=\u001b[38;5;28;01mFalse\u001b[39;00m\n\u001b[32m    122\u001b[39m ) \u001b[38;5;28;01mas\u001b[39;00m handles:\n\u001b[32m    123\u001b[39m     \u001b[38;5;28;01mif\u001b[39;00m dtype_backend \u001b[38;5;129;01mis\u001b[39;00m lib.no_default \u001b[38;5;129;01mand\u001b[39;00m \u001b[38;5;129;01mnot\u001b[39;00m using_pyarrow_string_dtype():\n\u001b[32m--> \u001b[39m\u001b[32m124\u001b[39m         \u001b[38;5;28;01mreturn\u001b[39;00m \u001b[43mfeather\u001b[49m\u001b[43m.\u001b[49m\u001b[43mread_feather\u001b[49m\u001b[43m(\u001b[49m\n\u001b[32m    125\u001b[39m \u001b[43m            \u001b[49m\u001b[43mhandles\u001b[49m\u001b[43m.\u001b[49m\u001b[43mhandle\u001b[49m\u001b[43m,\u001b[49m\u001b[43m \u001b[49m\u001b[43mcolumns\u001b[49m\u001b[43m=\u001b[49m\u001b[43mcolumns\u001b[49m\u001b[43m,\u001b[49m\u001b[43m \u001b[49m\u001b[43muse_threads\u001b[49m\u001b[43m=\u001b[49m\u001b[38;5;28;43mbool\u001b[39;49m\u001b[43m(\u001b[49m\u001b[43muse_threads\u001b[49m\u001b[43m)\u001b[49m\n\u001b[32m    126\u001b[39m \u001b[43m        \u001b[49m\u001b[43m)\u001b[49m\n\u001b[32m    128\u001b[39m     pa_table = feather.read_table(\n\u001b[32m    129\u001b[39m         handles.handle, columns=columns, use_threads=\u001b[38;5;28mbool\u001b[39m(use_threads)\n\u001b[32m    130\u001b[39m     )\n\u001b[32m    132\u001b[39m     \u001b[38;5;28;01mif\u001b[39;00m dtype_backend == \u001b[33m\"\u001b[39m\u001b[33mnumpy_nullable\u001b[39m\u001b[33m\"\u001b[39m:\n",
      "\u001b[36mFile \u001b[39m\u001b[32mc:\\Users\\danin\\AppData\\Local\\Programs\\Python\\Python313\\Lib\\site-packages\\pyarrow\\feather.py:225\u001b[39m, in \u001b[36mread_feather\u001b[39m\u001b[34m(source, columns, use_threads, memory_map, **kwargs)\u001b[39m\n\u001b[32m    198\u001b[39m \u001b[38;5;28;01mdef\u001b[39;00m\u001b[38;5;250m \u001b[39m\u001b[34mread_feather\u001b[39m(source, columns=\u001b[38;5;28;01mNone\u001b[39;00m, use_threads=\u001b[38;5;28;01mTrue\u001b[39;00m,\n\u001b[32m    199\u001b[39m                  memory_map=\u001b[38;5;28;01mFalse\u001b[39;00m, **kwargs):\n\u001b[32m    200\u001b[39m \u001b[38;5;250m    \u001b[39m\u001b[33;03m\"\"\"\u001b[39;00m\n\u001b[32m    201\u001b[39m \u001b[33;03m    Read a pandas.DataFrame from Feather format. To read as pyarrow.Table use\u001b[39;00m\n\u001b[32m    202\u001b[39m \u001b[33;03m    feather.read_table.\u001b[39;00m\n\u001b[32m   (...)\u001b[39m\u001b[32m    223\u001b[39m \u001b[33;03m        The contents of the Feather file as a pandas.DataFrame\u001b[39;00m\n\u001b[32m    224\u001b[39m \u001b[33;03m    \"\"\"\u001b[39;00m\n\u001b[32m--> \u001b[39m\u001b[32m225\u001b[39m     \u001b[38;5;28;01mreturn\u001b[39;00m (\u001b[43mread_table\u001b[49m\u001b[43m(\u001b[49m\n\u001b[32m    226\u001b[39m \u001b[43m        \u001b[49m\u001b[43msource\u001b[49m\u001b[43m,\u001b[49m\u001b[43m \u001b[49m\u001b[43mcolumns\u001b[49m\u001b[43m=\u001b[49m\u001b[43mcolumns\u001b[49m\u001b[43m,\u001b[49m\u001b[43m \u001b[49m\u001b[43mmemory_map\u001b[49m\u001b[43m=\u001b[49m\u001b[43mmemory_map\u001b[49m\u001b[43m,\u001b[49m\n\u001b[32m    227\u001b[39m \u001b[43m        \u001b[49m\u001b[43muse_threads\u001b[49m\u001b[43m=\u001b[49m\u001b[43muse_threads\u001b[49m\u001b[43m)\u001b[49m.to_pandas(use_threads=use_threads, **kwargs))\n",
      "\u001b[36mFile \u001b[39m\u001b[32mc:\\Users\\danin\\AppData\\Local\\Programs\\Python\\Python313\\Lib\\site-packages\\pyarrow\\feather.py:251\u001b[39m, in \u001b[36mread_table\u001b[39m\u001b[34m(source, columns, memory_map, use_threads)\u001b[39m\n\u001b[32m    230\u001b[39m \u001b[38;5;28;01mdef\u001b[39;00m\u001b[38;5;250m \u001b[39m\u001b[34mread_table\u001b[39m(source, columns=\u001b[38;5;28;01mNone\u001b[39;00m, memory_map=\u001b[38;5;28;01mFalse\u001b[39;00m, use_threads=\u001b[38;5;28;01mTrue\u001b[39;00m):\n\u001b[32m    231\u001b[39m \u001b[38;5;250m    \u001b[39m\u001b[33;03m\"\"\"\u001b[39;00m\n\u001b[32m    232\u001b[39m \u001b[33;03m    Read a pyarrow.Table from Feather format\u001b[39;00m\n\u001b[32m    233\u001b[39m \n\u001b[32m   (...)\u001b[39m\u001b[32m    249\u001b[39m \u001b[33;03m        The contents of the Feather file as a pyarrow.Table\u001b[39;00m\n\u001b[32m    250\u001b[39m \u001b[33;03m    \"\"\"\u001b[39;00m\n\u001b[32m--> \u001b[39m\u001b[32m251\u001b[39m     reader = \u001b[43m_feather\u001b[49m\u001b[43m.\u001b[49m\u001b[43mFeatherReader\u001b[49m\u001b[43m(\u001b[49m\n\u001b[32m    252\u001b[39m \u001b[43m        \u001b[49m\u001b[43msource\u001b[49m\u001b[43m,\u001b[49m\u001b[43m \u001b[49m\u001b[43muse_memory_map\u001b[49m\u001b[43m=\u001b[49m\u001b[43mmemory_map\u001b[49m\u001b[43m,\u001b[49m\u001b[43m \u001b[49m\u001b[43muse_threads\u001b[49m\u001b[43m=\u001b[49m\u001b[43muse_threads\u001b[49m\u001b[43m)\u001b[49m\n\u001b[32m    254\u001b[39m     \u001b[38;5;28;01mif\u001b[39;00m columns \u001b[38;5;129;01mis\u001b[39;00m \u001b[38;5;28;01mNone\u001b[39;00m:\n\u001b[32m    255\u001b[39m         \u001b[38;5;28;01mreturn\u001b[39;00m reader.read()\n",
      "\u001b[36mFile \u001b[39m\u001b[32mc:\\Users\\danin\\AppData\\Local\\Programs\\Python\\Python313\\Lib\\site-packages\\pyarrow\\_feather.pyx:79\u001b[39m, in \u001b[36mpyarrow._feather.FeatherReader.__cinit__\u001b[39m\u001b[34m()\u001b[39m\n",
      "\u001b[36mFile \u001b[39m\u001b[32mc:\\Users\\danin\\AppData\\Local\\Programs\\Python\\Python313\\Lib\\site-packages\\pyarrow\\error.pxi:155\u001b[39m, in \u001b[36mpyarrow.lib.pyarrow_internal_check_status\u001b[39m\u001b[34m()\u001b[39m\n",
      "\u001b[36mFile \u001b[39m\u001b[32mc:\\Users\\danin\\AppData\\Local\\Programs\\Python\\Python313\\Lib\\site-packages\\pyarrow\\error.pxi:92\u001b[39m, in \u001b[36mpyarrow.lib.check_status\u001b[39m\u001b[34m()\u001b[39m\n",
      "\u001b[31mArrowInvalid\u001b[39m: File is too small to be a well-formed file"
     ]
    }
   ],
   "source": [
    "temps_df = pd.read_feather('Temps_complete.feather')\n",
    "SVRM2_drive_df = pd.read_feather('SVRM2_drive_complete.feather')\n",
    "SVRM3_drive_df = pd.read_feather('SVRM3_drive_complete.feather')\n",
    "SVRM3_ewon_df = pd.read_feather('SVRM3_ewon_complete.feather')\n",
    "SVRM4_ewon_df = pd.read_feather('SVRM4_ewon_complete.feather')"
   ]
  },
  {
   "cell_type": "code",
   "execution_count": null,
   "id": "feeb2488",
   "metadata": {},
   "outputs": [],
   "source": []
  }
 ],
 "metadata": {
  "kernelspec": {
   "display_name": "Python 3",
   "language": "python",
   "name": "python3"
  },
  "language_info": {
   "codemirror_mode": {
    "name": "ipython",
    "version": 3
   },
   "file_extension": ".py",
   "mimetype": "text/x-python",
   "name": "python",
   "nbconvert_exporter": "python",
   "pygments_lexer": "ipython3",
   "version": "3.13.3"
  }
 },
 "nbformat": 4,
 "nbformat_minor": 5
}
