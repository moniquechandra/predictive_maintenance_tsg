{
 "cells": [
  {
   "cell_type": "markdown",
   "id": "66402313",
   "metadata": {},
   "source": [
    "Importing Libraries"
   ]
  },
  {
   "cell_type": "code",
   "execution_count": 7,
   "id": "3912c311",
   "metadata": {},
   "outputs": [],
   "source": [
    "import matplotlib.pyplot as plt\n",
    "import pandas as pd\n",
    "import numpy as np\n",
    "import glob\n",
    "import os"
   ]
  },
  {
   "cell_type": "markdown",
   "id": "a49b3de0",
   "metadata": {},
   "source": [
    "Loading Data"
   ]
  },
  {
   "cell_type": "code",
   "execution_count": 8,
   "id": "75f02038",
   "metadata": {},
   "outputs": [],
   "source": [
    "temps_df = pd.read_feather('Temps_complete.feather')\n",
    "SVRM2_drive_df = pd.read_feather('SVRM2_drive_complete.feather')\n",
    "SVRM3_drive_df = pd.read_feather('SVRM3_drive_complete.feather')\n",
    "SVRM3_ewon_df = pd.read_feather('SVRM3_ewon_complete.feather')\n",
    "SVRM4_ewon_df = pd.read_feather('SVRM4_ewon_complete.feather')"
   ]
  },
  {
   "cell_type": "code",
   "execution_count": null,
   "id": "feeb2488",
   "metadata": {},
   "outputs": [],
   "source": []
  }
 ],
 "metadata": {
  "kernelspec": {
   "display_name": "Python 3",
   "language": "python",
   "name": "python3"
  },
  "language_info": {
   "codemirror_mode": {
    "name": "ipython",
    "version": 3
   },
   "file_extension": ".py",
   "mimetype": "text/x-python",
   "name": "python",
   "nbconvert_exporter": "python",
   "pygments_lexer": "ipython3",
   "version": "3.13.3"
  }
 },
 "nbformat": 4,
 "nbformat_minor": 5
}
