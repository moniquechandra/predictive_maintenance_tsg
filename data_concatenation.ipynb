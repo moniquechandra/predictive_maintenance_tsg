{
 "cells": [
  {
   "cell_type": "markdown",
   "id": "c60b6c44",
   "metadata": {},
   "source": [
    "NOTES:\n",
    "\n",
    "1. Concatenation of drive data takes a really long time.\n",
    "2. Although I labeled temps as complete. We should still check whether there is anything inside AERO temps folder that is not in 'verzamelblad.xlsx'"
   ]
  },
  {
   "cell_type": "markdown",
   "id": "91a4ec08",
   "metadata": {},
   "source": [
    "Importing Libraries"
   ]
  },
  {
   "cell_type": "code",
   "execution_count": 1,
   "id": "96d6579a",
   "metadata": {},
   "outputs": [],
   "source": [
    "#import matplotlib.pyplot as plt\n",
    "import pandas as pd\n",
    "#import numpy as np\n",
    "import glob\n",
    "import os"
   ]
  },
  {
   "cell_type": "markdown",
   "id": "468b6ad3",
   "metadata": {},
   "source": [
    "Defining Functions"
   ]
  },
  {
   "cell_type": "code",
   "execution_count": 2,
   "id": "6455c846",
   "metadata": {},
   "outputs": [],
   "source": [
    "def csv_to_df_concatenator(list_of_paths, axis=None, **kwargs):\n",
    "    '''\n",
    "    given a list of paths, it will load all those CSV files and concatenate them \n",
    "    based on column names and axis if given 0 or 1.\n",
    "    kwargs may also be passed to use when reading the files.\n",
    "    '''\n",
    "    output_dfs = []\n",
    "    for csv_file in list_of_paths:\n",
    "        small_df = pd.read_csv(csv_file, **kwargs)\n",
    "        output_dfs.append(small_df)\n",
    "    if axis is not None:\n",
    "        return pd.concat(output_dfs, axis=axis)\n",
    "    else:\n",
    "        return pd.concat(output_dfs)\n",
    "    \n",
    "def df_to_feather_compatible(df):\n",
    "    '''\n",
    "    checks for mixed type columns and converts them to string columns, \n",
    "    since feather can't handle mixed type columns.\n",
    "    '''\n",
    "    for col in df.columns:\n",
    "        if df[col].dtype == \"object\":\n",
    "            dtype = pd.api.types.infer_dtype(df[col], skipna=True)\n",
    "            if dtype in (\"mixed\", \"mixed-integer\", \"mixed-integer-float\"):\n",
    "                df[col] = df[col].astype(str)\n",
    "    return df"
   ]
  },
  {
   "cell_type": "markdown",
   "id": "7ddba944",
   "metadata": {},
   "source": [
    "Handling Exceptions"
   ]
  },
  {
   "cell_type": "code",
   "execution_count": 3,
   "id": "0aba0697",
   "metadata": {},
   "outputs": [],
   "source": [
    "temps_sheets_exceptions = ['Blad2', 'Blad3']"
   ]
  },
  {
   "cell_type": "markdown",
   "id": "b2f0f65f",
   "metadata": {},
   "source": [
    "Reading Datasets"
   ]
  },
  {
   "cell_type": "code",
   "execution_count": 4,
   "id": "33067cff",
   "metadata": {},
   "outputs": [],
   "source": [
    "temps_xl = pd.ExcelFile('verzamelblad.xlsx')\n",
    "SVRM2_drive_csv_files = glob.glob(os.path.join('SVRM2 Drive data', \"*.csv\"))\n",
    "SVRM3_drive_csv_files = glob.glob(os.path.join('SVRM3 Drive data', \"*.csv\"))\n",
    "SVRM3_ewon_csv_files = glob.glob(os.path.join('SVRM3 Ewon data', \"*.csv\"))\n",
    "SVRM4_ewon_csv_files = glob.glob(os.path.join('SVRM4 Ewon data', \"*.csv\"))"
   ]
  },
  {
   "cell_type": "code",
   "execution_count": 5,
   "id": "6ff44969",
   "metadata": {},
   "outputs": [],
   "source": [
    "temps_sheets = temps_xl.sheet_names[1:]\n",
    "for sheet in temps_sheets:\n",
    "    if sheet in temps_sheets_exceptions:\n",
    "        small_df = pd.read_excel('verzamelblad.xlsx', sheet)\n",
    "    else:\n",
    "        small_df = pd.read_excel('verzamelblad.xlsx', sheet, skiprows=[0,1,2])\n",
    "    if sheet == temps_sheets[0]:\n",
    "        temps_df = small_df\n",
    "    else:\n",
    "        temps_df = pd.concat((temps_df, small_df))"
   ]
  },
  {
   "cell_type": "code",
   "execution_count": 6,
   "id": "3ea06092",
   "metadata": {},
   "outputs": [],
   "source": [
    "SVRM2_drive_df = csv_to_df_concatenator(SVRM2_drive_csv_files, axis=0, skiprows=[0], low_memory=False)"
   ]
  },
  {
   "cell_type": "code",
   "execution_count": 7,
   "id": "660d1d5c",
   "metadata": {},
   "outputs": [],
   "source": [
    "SVRM3_drive_df = csv_to_df_concatenator(SVRM3_drive_csv_files, axis=0, skiprows=[0], low_memory=False)"
   ]
  },
  {
   "cell_type": "code",
   "execution_count": 8,
   "id": "f8c092e2",
   "metadata": {},
   "outputs": [
    {
     "name": "stderr",
     "output_type": "stream",
     "text": [
      "C:\\Users\\danin\\AppData\\Local\\Temp\\ipykernel_20392\\3588218242.py:9: DtypeWarning: Columns (3,4,5,6,7,9,14,15,16,20,23,24) have mixed types. Specify dtype option on import or set low_memory=False.\n",
      "  small_df = pd.read_csv(csv_file, **kwargs)\n"
     ]
    }
   ],
   "source": [
    "SVRM3_ewon_df = csv_to_df_concatenator(SVRM3_ewon_csv_files, sep=';')"
   ]
  },
  {
   "cell_type": "code",
   "execution_count": 9,
   "id": "1f7bc050",
   "metadata": {},
   "outputs": [
    {
     "name": "stderr",
     "output_type": "stream",
     "text": [
      "C:\\Users\\danin\\AppData\\Local\\Temp\\ipykernel_20392\\3588218242.py:9: DtypeWarning: Columns (3,4,5,6,7,21,24,25,27,28,29,31,33,34,35) have mixed types. Specify dtype option on import or set low_memory=False.\n",
      "  small_df = pd.read_csv(csv_file, **kwargs)\n",
      "C:\\Users\\danin\\AppData\\Local\\Temp\\ipykernel_20392\\3588218242.py:9: DtypeWarning: Columns (2,3,4,5,6,7,9,10,11,12,13,14,15,16,18,19,20,21,22,23,24,25,27,28,29,33) have mixed types. Specify dtype option on import or set low_memory=False.\n",
      "  small_df = pd.read_csv(csv_file, **kwargs)\n",
      "C:\\Users\\danin\\AppData\\Local\\Temp\\ipykernel_20392\\3588218242.py:9: DtypeWarning: Columns (2,3,4,5,6,7,9,10,11,12,13,14,15,16,18,19,20,21,22,23,24,25,27,28,29,31,33,34,35) have mixed types. Specify dtype option on import or set low_memory=False.\n",
      "  small_df = pd.read_csv(csv_file, **kwargs)\n",
      "C:\\Users\\danin\\AppData\\Local\\Temp\\ipykernel_20392\\3588218242.py:9: DtypeWarning: Columns (2,3,4,5,6,7,9,10,11,12,13,14,15,16,18,19,20,21,22,23,24,25,27,28,29,33) have mixed types. Specify dtype option on import or set low_memory=False.\n",
      "  small_df = pd.read_csv(csv_file, **kwargs)\n",
      "C:\\Users\\danin\\AppData\\Local\\Temp\\ipykernel_20392\\3588218242.py:9: DtypeWarning: Columns (2,3,4,5,6,7,9,10,11,12,13,14,15,16,18,19,20,21,22,23,24,25,27,28,29,33) have mixed types. Specify dtype option on import or set low_memory=False.\n",
      "  small_df = pd.read_csv(csv_file, **kwargs)\n",
      "C:\\Users\\danin\\AppData\\Local\\Temp\\ipykernel_20392\\3588218242.py:9: DtypeWarning: Columns (2,3,4,5,6,7,9,10,11,12,13,14,15,16,18,19,20,21,22,23,24,25,27,28,29,33) have mixed types. Specify dtype option on import or set low_memory=False.\n",
      "  small_df = pd.read_csv(csv_file, **kwargs)\n",
      "C:\\Users\\danin\\AppData\\Local\\Temp\\ipykernel_20392\\3588218242.py:9: DtypeWarning: Columns (2,3,4,5,6,7,9,10,11,12,13,14,15,16,18,19,20,21,22,23,24,25,27,28,29,33) have mixed types. Specify dtype option on import or set low_memory=False.\n",
      "  small_df = pd.read_csv(csv_file, **kwargs)\n",
      "C:\\Users\\danin\\AppData\\Local\\Temp\\ipykernel_20392\\3588218242.py:9: DtypeWarning: Columns (2,3,4,5,6,7,9,10,11,12,13,14,15,16,18,19,20,21,22,23,24,25,27,28,29,33) have mixed types. Specify dtype option on import or set low_memory=False.\n",
      "  small_df = pd.read_csv(csv_file, **kwargs)\n",
      "C:\\Users\\danin\\AppData\\Local\\Temp\\ipykernel_20392\\3588218242.py:9: DtypeWarning: Columns (2,3,4,5,6,7,9,10,11,12,13,14,15,16,18,19,20,21,22,23,24,25,27,28,29,31,33,34,35) have mixed types. Specify dtype option on import or set low_memory=False.\n",
      "  small_df = pd.read_csv(csv_file, **kwargs)\n",
      "C:\\Users\\danin\\AppData\\Local\\Temp\\ipykernel_20392\\3588218242.py:9: DtypeWarning: Columns (2,3,4,5,6,7,9,10,11,12,13,14,15,16,18,19,20,21,22,23,24,25,27,28,29,33) have mixed types. Specify dtype option on import or set low_memory=False.\n",
      "  small_df = pd.read_csv(csv_file, **kwargs)\n",
      "C:\\Users\\danin\\AppData\\Local\\Temp\\ipykernel_20392\\3588218242.py:9: DtypeWarning: Columns (2,3,4,5,6,7,9,10,11,12,13,14,15,16,18,19,20,21,22,23,24,25,27,28,29,33) have mixed types. Specify dtype option on import or set low_memory=False.\n",
      "  small_df = pd.read_csv(csv_file, **kwargs)\n",
      "C:\\Users\\danin\\AppData\\Local\\Temp\\ipykernel_20392\\3588218242.py:9: DtypeWarning: Columns (2,3,4,5,6,7,9,10,11,12,13,14,15,16,18,19,20,21,22,23,24,25,27,28,29,33) have mixed types. Specify dtype option on import or set low_memory=False.\n",
      "  small_df = pd.read_csv(csv_file, **kwargs)\n",
      "C:\\Users\\danin\\AppData\\Local\\Temp\\ipykernel_20392\\3588218242.py:9: DtypeWarning: Columns (2,3,4,5,6,7,9,10,11,12,13,14,15,16,18,19,20,21,22,23,24,25,27,28,29,33) have mixed types. Specify dtype option on import or set low_memory=False.\n",
      "  small_df = pd.read_csv(csv_file, **kwargs)\n"
     ]
    }
   ],
   "source": [
    "SVRM4_ewon_df = csv_to_df_concatenator(SVRM4_ewon_csv_files, sep=';')"
   ]
  },
  {
   "cell_type": "markdown",
   "id": "56df1437",
   "metadata": {},
   "source": [
    "Export DataFrames"
   ]
  },
  {
   "cell_type": "code",
   "execution_count": 10,
   "id": "6e18baa1",
   "metadata": {},
   "outputs": [],
   "source": [
    "temps_df = df_to_feather_compatible(temps_df)\n",
    "SVRM2_drive_df = df_to_feather_compatible(SVRM2_drive_df)"
   ]
  },
  {
   "cell_type": "code",
   "execution_count": 11,
   "id": "0212d6fe",
   "metadata": {},
   "outputs": [],
   "source": [
    "SVRM3_drive_df = df_to_feather_compatible(SVRM3_drive_df)"
   ]
  },
  {
   "cell_type": "code",
   "execution_count": 12,
   "id": "ec1e4fbf",
   "metadata": {},
   "outputs": [],
   "source": [
    "SVRM3_ewon_df = df_to_feather_compatible(SVRM3_ewon_df)\n",
    "SVRM4_ewon_df = df_to_feather_compatible(SVRM4_ewon_df)"
   ]
  },
  {
   "cell_type": "code",
   "execution_count": 13,
   "id": "26a300f5",
   "metadata": {},
   "outputs": [],
   "source": [
    "temps_df.to_feather('Temps_complete.feather')"
   ]
  },
  {
   "cell_type": "code",
   "execution_count": 14,
   "id": "54a9c15d",
   "metadata": {},
   "outputs": [],
   "source": [
    "SVRM2_drive_df.to_feather('SVRM2_drive_complete.feather')\n",
    "SVRM3_drive_df.to_feather('SVRM3_drive_complete.feather')"
   ]
  },
  {
   "cell_type": "code",
   "execution_count": 15,
   "id": "d6e0acf1",
   "metadata": {},
   "outputs": [],
   "source": [
    "SVRM3_ewon_df.to_feather('SVRM3_ewon_complete.feather')\n",
    "SVRM4_ewon_df.to_feather('SVRM4_ewon_complete.feather')"
   ]
  }
 ],
 "metadata": {
  "kernelspec": {
   "display_name": "Python 3",
   "language": "python",
   "name": "python3"
  },
  "language_info": {
   "codemirror_mode": {
    "name": "ipython",
    "version": 3
   },
   "file_extension": ".py",
   "mimetype": "text/x-python",
   "name": "python",
   "nbconvert_exporter": "python",
   "pygments_lexer": "ipython3",
   "version": "3.13.3"
  }
 },
 "nbformat": 4,
 "nbformat_minor": 5
}
